{
 "cells": [
  {
   "cell_type": "code",
   "execution_count": null,
   "metadata": {},
   "outputs": [],
   "source": [
    "import arviz as az\n",
    "import pandas as pd\n",
    "import matplotlib.pyplot as plt\n",
    "import numpy as np\n",
    "import pymc as pm\n",
    "import pytensor.tensor as pt\n",
    "import numpy.ma as ma\n",
    "from scipy.stats import norm \n",
    "plt.rcParams['font.family'] = 'Arial'\n",
    "plt.rcParams.update({'font.size': 12})\n"
   ]
  },
  {
   "cell_type": "code",
   "execution_count": null,
   "metadata": {},
   "outputs": [],
   "source": [
    "#create sample_dataset\n",
    "\n",
    "Nsites=13 # No. of sites\n",
    "Nsites_SL= range(1,Nsites+1,1)\n",
    "Nsites_X=[1,2,3,4,5,6,7,8,9,10,11,12,13] # X-coords of sites\n",
    "Nsites_Y=[0,0,0,0,0,0,0,0,0,0,0,0,0] # Y-coords of sites\n",
    "Nsites_Z=[0,0,0,0,0,0,0,0,0,0,0,0,0] # Y-coords of sites\n",
    "NObs=200 # No. of observations at each site\n",
    "mean=[1,2,3,4,5,6,7,8,9,10,11,12,13] # Known Mean of observations at each site\n",
    "std=[0.3,0.3,0.3,0.3,0.3,0.3,0.3,1,1,1,1,1,1] # Known Standard deviation of observations at each site \n",
    "\n",
    "\n",
    "np.random.seed(625)\n",
    "data_source=np.empty((Nsites,NObs))\n",
    "for i in range (0,Nsites):\n",
    "    data_source[i,:]=np.random.normal(loc=mean[i],scale=std[i],size=NObs)\n",
    "\n"
   ]
  },
  {
   "cell_type": "code",
   "execution_count": null,
   "metadata": {},
   "outputs": [],
   "source": [
    "#save sample_dataset as a .csv file\n",
    "\n",
    "df1 = pd.DataFrame(data_source)\n",
    "df1.columns = ['Data_'+str(i) for i in range(1,NObs+1)]\n",
    "df2 = pd.DataFrame({\"Sites\" : Nsites_SL, \"X\" : Nsites_X, \"Y\" : Nsites_Y, \"Z\" : Nsites_Z})\n",
    "df = pd.concat([df2, df1], axis=1, join='inner')\n",
    "df.to_csv(\"sample_dataset.csv\", index=False)"
   ]
  },
  {
   "cell_type": "code",
   "execution_count": null,
   "metadata": {},
   "outputs": [],
   "source": [
    "#plot_sample_dataset\n",
    "\n",
    "for i in range(len(mean)):\n",
    "    current_mean = mean[i]\n",
    "    current_std = std[i]\n",
    "    std_threshold = 0.6\n",
    "    if current_std < std_threshold:\n",
    "        color = 'b'\n",
    "        label = 'Low Variance'\n",
    "    else:\n",
    "        color = 'r'\n",
    "        label = 'High Variance'\n",
    "    x = np.arange(current_mean-10, current_mean+10, 0.05)\n",
    "    y = norm.pdf(x, current_mean, current_std)\n",
    "    plt.plot(x, y, color=color,label=label)\n",
    "    plt.fill_between(x, y, color=color, alpha=0.5)\n",
    "\n",
    "\n",
    "# Naming the x-axis, y-axis and the whole graph \n",
    "plt.xlabel(\"Data\") \n",
    "plt.ylabel(\"Probability density\") \n",
    "plt.xlim(0,14)\n",
    "plt.xticks(np.arange(1, 14, step=1)) \n",
    "plt.ylim(0,1.5)\n",
    "plt.yticks(np.arange(0, 1.55, step=0.25)) \n",
    "  \n",
    "# Adding legend, which helps us recognize the curve according to it's color \n",
    "handles, labels=plt.gca().get_legend_handles_labels()\n",
    "by_label=dict(zip(labels,handles))\n",
    "plt.legend(by_label.values(), by_label.keys()) \n",
    "plt.savefig(\"sample_dataset.png\",dpi=300) \n",
    "  \n",
    " \n"
   ]
  }
 ],
 "metadata": {
  "kernelspec": {
   "display_name": "Python 3",
   "language": "python",
   "name": "python3"
  },
  "language_info": {
   "codemirror_mode": {
    "name": "ipython",
    "version": 3
   },
   "file_extension": ".py",
   "mimetype": "text/x-python",
   "name": "python",
   "nbconvert_exporter": "python",
   "pygments_lexer": "ipython3",
   "version": "3.9.18 (main, Jan 16 2024, 15:38:36) \n[Clang 14.0.0 (clang-1400.0.29.202)]"
  },
  "orig_nbformat": 4,
  "vscode": {
   "interpreter": {
    "hash": "397704579725e15f5c7cb49fe5f0341eb7531c82d19f2c29d197e8b64ab5776b"
   }
  }
 },
 "nbformat": 4,
 "nbformat_minor": 2
}
