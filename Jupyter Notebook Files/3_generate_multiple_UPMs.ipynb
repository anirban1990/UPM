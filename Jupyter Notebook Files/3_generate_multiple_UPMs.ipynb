{
 "cells": [
  {
   "cell_type": "code",
   "execution_count": 5,
   "metadata": {},
   "outputs": [],
   "source": [
    "import arviz as az\n",
    "import matplotlib.pyplot as plt\n",
    "import numpy as np\n",
    "import pymc as pm\n",
    "import pandas as pd\n",
    "import pytensor.tensor as pt\n",
    "import numpy.ma as ma\n",
    "from scipy.stats import norm \n",
    "plt.rcParams['font.family'] = 'Arial'\n",
    "plt.rcParams.update({'font.size': 12})\n"
   ]
  },
  {
   "cell_type": "code",
   "execution_count": 6,
   "metadata": {},
   "outputs": [],
   "source": [
    "#Read data from sample_dataset.csv\n",
    "\n",
    "df = pd.read_csv('sample_dataset.csv')\n",
    "Nsites=df.shape[0]\n",
    "df.drop(['Sites','X','Y','Z'], axis=1, inplace=True)\n",
    "data_source = df.to_numpy()"
   ]
  },
  {
   "cell_type": "code",
   "execution_count": 7,
   "metadata": {},
   "outputs": [],
   "source": [
    "#Read data from adjacency_matrix.csv\n",
    "\n",
    "df = pd.read_csv('adjacency_matrix.csv',header=None)\n",
    "adj_matrix = df.to_numpy()\n"
   ]
  },
  {
   "cell_type": "code",
   "execution_count": 8,
   "metadata": {},
   "outputs": [
    {
     "name": "stderr",
     "output_type": "stream",
     "text": [
      "Auto-assigning NUTS sampler...\n",
      "Initializing NUTS using jitter+adapt_diag...\n",
      "Multiprocess sampling (4 chains in 4 jobs)\n",
      "NUTS: [sd, beta0, C, phi]\n",
      "WARNING (pytensor.tensor.blas): Using NumPy C-API based implementation for BLAS functions.\n",
      "WARNING (pytensor.tensor.blas): Using NumPy C-API based implementation for BLAS functions.\n",
      "WARNING (pytensor.tensor.blas): Using NumPy C-API based implementation for BLAS functions.\n",
      "WARNING (pytensor.tensor.blas): Using NumPy C-API based implementation for BLAS functions.\n"
     ]
    },
    {
     "data": {
      "text/html": [
       "\n",
       "<style>\n",
       "    /* Turns off some styling */\n",
       "    progress {\n",
       "        /* gets rid of default border in Firefox and Opera. */\n",
       "        border: none;\n",
       "        /* Needs to be in here for Safari polyfill so background images work as expected. */\n",
       "        background-size: auto;\n",
       "    }\n",
       "    progress:not([value]), progress:not([value])::-webkit-progress-bar {\n",
       "        background: repeating-linear-gradient(45deg, #7e7e7e, #7e7e7e 10px, #5c5c5c 10px, #5c5c5c 20px);\n",
       "    }\n",
       "    .progress-bar-interrupted, .progress-bar-interrupted::-webkit-progress-bar {\n",
       "        background: #F44336;\n",
       "    }\n",
       "</style>\n"
      ],
      "text/plain": [
       "<IPython.core.display.HTML object>"
      ]
     },
     "metadata": {},
     "output_type": "display_data"
    },
    {
     "data": {
      "text/html": [
       "\n",
       "    <div>\n",
       "      <progress value='200000' class='' max='200000' style='width:300px; height:20px; vertical-align: middle;'></progress>\n",
       "      100.00% [200000/200000 03:16&lt;00:00 Sampling 4 chains, 9 divergences]\n",
       "    </div>\n",
       "    "
      ],
      "text/plain": [
       "<IPython.core.display.HTML object>"
      ]
     },
     "metadata": {},
     "output_type": "display_data"
    },
    {
     "name": "stderr",
     "output_type": "stream",
     "text": [
      "Sampling 4 chains for 20_000 tune and 30_000 draw iterations (80_000 + 120_000 draws total) took 207 seconds.\n"
     ]
    }
   ],
   "source": [
    "#Generate UPMs for multiple sample sizes \n",
    "Nsample=[10,50] #Nsample is an array denotiong the different sample sizes for which UPMs should be generated\n",
    "\n",
    "global_posterior_mean = np.empty((Nsites,len(Nsample)))\n",
    "global_posterior_std = np.empty((Nsites,len(Nsample)))\n",
    "\n",
    "UPM_CAR = pm.distributions.multivariate.CARRV(ndims_params = [1, 2, 0, 1]) #Monkeypatching (source-code modification)\n",
    "pm.CAR.rv_op = UPM_CAR #Monkeypatching (source-code modification)\n",
    "\n",
    "for j in range(len(Nsample)):\n",
    "    #prep the data\n",
    "    data=data_source[:,:Nsample[j]]\n",
    "    datatrans = data.transpose()\n",
    "\n",
    "    # Bayesian modelling\n",
    "    coords = {\"Nsites\":np.arange(Nsites)}\n",
    "    with pm.Model(coords=coords) as model:\n",
    "        sd = pm.Uniform(\"sd\", lower=0, upper=5,dims=\"Nsites\",initval=np.repeat(0.1,Nsites))\n",
    "        beta0 = pm.Normal(\"beta0\", mu=0.0, sigma=1000,initval=100)\n",
    "        C = pm.Uniform(\"C\", lower=0.001, upper=1000,initval=1)\n",
    "        phi= pm.CAR (\"phi\", mu=np.zeros(Nsites),tau=C*sd*sd, W=adj_matrix, alpha=0, dims=\"Nsites\")\n",
    "        mu = pm.Deterministic(\"mu\", (beta0+phi))\n",
    "        obs = pm.Normal(\"obs\", mu=mu, sigma=sd, observed=datatrans)\n",
    "        idata = pm.sample(draws=30000,tune=20000,compute_convergence_checks=False)\n",
    "\n",
    "\n",
    "    #plot_Posterior\n",
    "    stacked = az.extract(idata)\n",
    "    Ypost_Mean = az.extract(idata, var_names=\"mu\", num_samples=100)\n",
    "    Ypost_STD = az.extract(idata, var_names=\"sd\", num_samples=100)\n",
    "    Posterior_Mean = Ypost_Mean.mean(axis=1) \n",
    "    Posterior_STD = Ypost_STD.mean(axis=1) \n",
    "\n",
    "\n",
    "    for i in range(len(Posterior_Mean)):\n",
    "        current_mean = Posterior_Mean[i]\n",
    "        current_std = Posterior_STD[i]\n",
    "        std_threshold = 0.6\n",
    "        if current_std < std_threshold:\n",
    "            color = 'b'\n",
    "            label = 'Low Variance'\n",
    "        else:\n",
    "            color = 'r'\n",
    "            label = 'High Variance'\n",
    "        x = np.arange(current_mean-10, current_mean+10, 0.05)\n",
    "        y = norm.pdf(x, current_mean, current_std)\n",
    "        plt.plot(x, y, color=color)\n",
    "        plt.fill_between(x, y, color=color, alpha=0.5)\n",
    "\n",
    "\n",
    "    # Naming the x-axis, y-axis and the whole graph \n",
    "    plt.xlabel(\"Data\") \n",
    "    plt.ylabel(\"Probability density\") \n",
    "    plt.title(\"Sample Size = {}\".format(Nsample[j]))\n",
    "    plt.xlim(0,14)\n",
    "    plt.ylim(0,1.5)\n",
    "    plt.xticks(np.arange(1, 14, step=1))\n",
    "    \n",
    "    # To load the display window \n",
    "    plt.savefig(\"UPM_N{}.png\".format(Nsample[j]), dpi=300) \n",
    "    plt.close()\n"
   ]
  }
 ],
 "metadata": {
  "kernelspec": {
   "display_name": "Python 3",
   "language": "python",
   "name": "python3"
  },
  "language_info": {
   "codemirror_mode": {
    "name": "ipython",
    "version": 3
   },
   "file_extension": ".py",
   "mimetype": "text/x-python",
   "name": "python",
   "nbconvert_exporter": "python",
   "pygments_lexer": "ipython3",
   "version": "3.9.18"
  },
  "orig_nbformat": 4,
  "vscode": {
   "interpreter": {
    "hash": "397704579725e15f5c7cb49fe5f0341eb7531c82d19f2c29d197e8b64ab5776b"
   }
  }
 },
 "nbformat": 4,
 "nbformat_minor": 2
}
